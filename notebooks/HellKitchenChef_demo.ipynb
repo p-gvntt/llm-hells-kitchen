{
 "cells": [
  {
   "cell_type": "code",
   "execution_count": null,
   "id": "35e978f9",
   "metadata": {},
   "outputs": [],
   "source": [
    "# Imports\n",
    "import sys\n",
    "import os\n",
    "from pathlib import Path\n",
    "\n",
    "# If you're in notebooks/, go up one level to project root\n",
    "project_root = Path(__file__).resolve().parent.parent if \"__file__\" in globals() else Path().resolve().parent\n",
    "src_path = project_root / \"src\"\n",
    "sys.path.append(str(src_path))\n",
    "\n",
    "# Local modules\n",
    "from transcript_utils import clean_transcript_text\n",
    "from chef_rag import HellKitchenChef\n",
    "from chef_service import generate_chef_response\n",
    "from config import (\n",
    "    YOUTUBE_VIDEO_ID,\n",
    "    DEFAULT_MODEL,\n",
    "    RAW_TRANSCRIPTS_DIR,\n",
    "    PREPROCESSED_TRANSCRIPTS_DIR,\n",
    "    PERSONAS_DIR,\n",
    ")"
   ]
  },
  {
   "cell_type": "code",
   "execution_count": 3,
   "id": "ccab49ec",
   "metadata": {},
   "outputs": [],
   "source": [
    "# Configuration\n",
    "video_id = YOUTUBE_VIDEO_ID\n",
    "model = DEFAULT_MODEL\n",
    "user_query = \"pasta with chicken\""
   ]
  },
  {
   "cell_type": "code",
   "execution_count": null,
   "id": "7d45900d",
   "metadata": {},
   "outputs": [],
   "source": [
    "# Generate chef response\n",
    "result = generate_chef_response(video_id=video_id, user_query=user_query, model=model)"
   ]
  },
  {
   "cell_type": "code",
   "execution_count": 6,
   "id": "b16691b2",
   "metadata": {},
   "outputs": [
    {
     "name": "stdout",
     "output_type": "stream",
     "text": [
      "\n",
      "📝 Cleaned Transcript (preview):\n",
      " I'm gonna go ballistic. Get a grip. Oh dear, Raj, come here, you. It's raw, it's loud, it's weird. Okay, come on, man, what is that? What, what, what, what is that? Ah, it's like Barbie's vomit. It's like purple snot. I swear to God, it's pinker inside than Paris Hilton's lipstick. Just touch that fish there, just touch how dry it is. It's got more wrinkles on it than I have, and I'm 44 years of age. That should be cooked fresh. Thanks to that, hurry up, dear Barney. Yeah, but I'm not a dick fac ...\n",
      "\n",
      "🍳 Chef Persona:\n",
      " This chef is highly passionate, intense, and demands perfection in the kitchen. They express frustration and disappointment vividly and aren't afraid to use humor and sharp criticism to make a point. They have high standards and expect others to match their level of commitment and skill. Despite the harsh exterior, there's an underlying desire for the team to succeed and improve, as evidenced by their detailed feedback. Their communication style is blunt and colorful, reflecting a no-nonsense approach to leadership.\n",
      "\n",
      "👨‍🍳 Recipe Critique:\n",
      " Ah, so you want to tackle \"Chicken Dijon & Pasta,\" do you? Well, buckle up, because this dish isn't going to make itself, and it certainly won't take any shortcuts. Let's get this right because half-baked efforts are as useful as a sieve for soup.\n",
      "\n",
      "First off, preheat that oven to 400 degrees like you mean it. We're not just warming up a sauna here; we're preparing for a masterpiece. Get that chicken into a shallow roasting pan—no deep dives here—and make sure it's ready for a mustard makeover.\n",
      "\n",
      "Now for the mustard and dressing mix. This isn't just any slathering; it's the flavor bomb that’s going to wake up that chicken from its bland slumber. Half of this golden concoction goes over the chicken, and it’s showtime in the oven for 40 minutes. But keep an eye on it! We aren't burning offerings to the culinary gods.\n",
      "\n",
      "While that does its magic, let's whip the rest of the dish into shape. Combine the soup, water, and the remaining mustard mixture until you've got a sauce worthy of your pasta. Toss it with the pasta, and if you're fumbling around with the French Fried Onions, remember this: they add crunch, not confusion.\n",
      "\n",
      "The vegetables and parsley join the pasta party, bringing color and freshness. Once the chicken has had its initial bake, place this vibrant pasta concoction around it. It's like a culinary hug but with flavor—bake it all for another 15 minutes. No pink chicken here; we're looking for perfection.\n",
      "\n",
      "Finally, sprinkle the remaining onions on top and give it a minute to crisp up. This is the grand finale, folks—crunchy, golden onions, not sad, soggy disappointments. If you've followed these steps and not wandered off to check your Instagram feed, you should have something that resembles the glory of Chicken Dijon & Pasta.\n",
      "\n",
      "Now, let’s aim for a dish that doesn't just fill the stomach but also dazzles the taste buds. Or else, what's the point? Chop chop!\n"
     ]
    }
   ],
   "source": [
    "# Display results\n",
    "if \"error\" in result:\n",
    "    print(\"❌ Error:\", result[\"error\"])\n",
    "else:\n",
    "    print(\"\\n📝 Cleaned Transcript (preview):\\n\", result[\"cleaned_transcript\"][:500], \"...\")\n",
    "    print(\"\\n🍳 Chef Persona:\\n\", result[\"persona\"])\n",
    "    print(\"\\n👨‍🍳 Recipe Critique:\\n\", result[\"critique\"])\n"
   ]
  },
  {
   "cell_type": "code",
   "execution_count": null,
   "id": "c3b5a768",
   "metadata": {},
   "outputs": [],
   "source": []
  }
 ],
 "metadata": {
  "kernelspec": {
   "display_name": "venv",
   "language": "python",
   "name": "python3"
  },
  "language_info": {
   "codemirror_mode": {
    "name": "ipython",
    "version": 3
   },
   "file_extension": ".py",
   "mimetype": "text/x-python",
   "name": "python",
   "nbconvert_exporter": "python",
   "pygments_lexer": "ipython3",
   "version": "3.11.13"
  }
 },
 "nbformat": 4,
 "nbformat_minor": 5
}
