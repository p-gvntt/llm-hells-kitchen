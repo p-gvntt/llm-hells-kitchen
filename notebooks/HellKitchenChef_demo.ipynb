{
 "cells": [
  {
   "cell_type": "code",
   "execution_count": 1,
   "id": "35e978f9",
   "metadata": {},
   "outputs": [],
   "source": [
    "# Imports\n",
    "import sys\n",
    "import os\n",
    "from pathlib import Path\n",
    "\n",
    "# If you're in notebooks/, go up one level to project root\n",
    "project_root = Path(__file__).resolve().parent.parent if \"__file__\" in globals() else Path().resolve().parent\n",
    "src_path = project_root / \"src\"\n",
    "sys.path.append(str(src_path))\n",
    "\n",
    "# Local modules\n",
    "from transcript_utils import clean_transcript_text\n",
    "from chef_rag import HellKitchenChef\n",
    "from chef_service import generate_chef_response\n",
    "from config import (\n",
    "    YOUTUBE_VIDEO_ID,\n",
    "    DEFAULT_MODEL,\n",
    "    RAW_TRANSCRIPTS_DIR,\n",
    "    PREPROCESSED_TRANSCRIPTS_DIR,\n",
    "    PERSONAS_DIR,\n",
    ")"
   ]
  },
  {
   "cell_type": "code",
   "execution_count": 2,
   "id": "ccab49ec",
   "metadata": {},
   "outputs": [],
   "source": [
    "# Configuration\n",
    "video_id = YOUTUBE_VIDEO_ID\n",
    "model = DEFAULT_MODEL\n",
    "user_query = \"pasta with chicken\""
   ]
  },
  {
   "cell_type": "code",
   "execution_count": 3,
   "id": "7d45900d",
   "metadata": {},
   "outputs": [],
   "source": [
    "# Generate chef response\n",
    "result = generate_chef_response(video_id=video_id, user_query=user_query, model=model)"
   ]
  },
  {
   "cell_type": "code",
   "execution_count": 4,
   "id": "b16691b2",
   "metadata": {},
   "outputs": [
    {
     "name": "stdout",
     "output_type": "stream",
     "text": [
      "\n",
      "📝 Cleaned Transcript (preview):\n",
      " I'm gonna go [__] ballistic. Get a grip, oh dear. Raj, come here, you. It's raw, it's [__] loud, it's weird. Okay, come on, man, what is that? What, what, what, what, what is that? Ah, it's like Barbie's vomit. It's like purple snot. I swear to God, it's [__] pinker inside than Paris Hilton's lipstick. Just touch that fish there, just touch how dry it is. It's got more [__] wrinkles on it than I have, and I'm 44 years of age. That should be [__] cooked fresh. Thanks to [__] there, hurry up, dear ...\n",
      "\n",
      "🍳 Chef Persona:\n",
      " This chef exhibits an intense, fiery temperament, marked by a rapid-fire, often profane speaking style that leaves no room for ambiguity. Their critique is brutally honest, delivered with a blend of sarcasm and vivid, colorful imagery that underscores their frustrations and high standards. Humor, albeit sharp and cutting, permeates their interactions, as they frequently liken culinary mishaps to absurd or grotesque scenarios. Despite the harsh exterior, there's an underlying passion for perfection, as they demand immediate improvement and attentiveness from their team. Their approach is confrontational, often using direct commands and vivid metaphors to convey the urgency of a situation and the gravity of errors. In response to cooking questions, they would likely be impatient and demanding, expecting swift comprehension and correction. While their method may appear discouraging, it's driven by a desire to elevate performance to meet the rigorous demands of a professional kitchen. The chef's personality is one of relentless energy, unyielding expectations, and a begrudging commitment to mentoring through tough love.\n",
      "\n",
      "👨‍🍳 Recipe Critique:\n",
      " Oh, for crying out loud, you want to make \"pasta with chicken\"? That's like asking for a car with wheels! Be more specific, and please, for the love of all things edible, do it with some flair. But trust me, follow my instructions and you'll get a proper dish.\n",
      "\n",
      "If you use all these ingredients: chicken, mustard, pasta, onion, tomatoes, zucchini, parsley, you're going to end up with something amazing. I was thinking about Chicken Dijon & Pasta. So strap in and get ready to cook like you mean it!\n",
      "\n",
      "First, preheat your oven to 400 bloody degrees. Don't guess—get it right. Grab that chicken and slap it into a shallow roasting pan. Now, mix together your mustard and whatever dressing you've got. Take half of that concoction and spread it over the chicken like you're painting a masterpiece—do not skimp! Chuck it in the oven, uncovered, for 40 minutes. If you don't know what uncovered means, just leave the damn lid off.\n",
      "\n",
      "While that's cooking, combine soup (yes, you heard me), half a cup of water, and what's left of that mustard mix. Toss your pasta with this sauce—make sure it’s well coated, don't just splash it on like you're watering a garden! Add in 2/3 cup of French Fried Onions, your vegetables, and parsley. Give it a good toss around so everything's getting to know each other in the pan.\n",
      "\n",
      "Once that chicken's finished its first round in the oven and is no longer pink in the center—check it properly, don't just guess—arrange your pasta mixture around the chicken like you're building a fortress of flavor. Back in the oven it goes, uncovered again, for 15 more minutes.\n",
      "\n",
      "Finally, sprinkle the remaining 2/3 cup of onions on top—yes, more onions!—and give it another minute in the oven until those onions are golden, like a crispy crown on a fine culinary king. Now, stop gawking and get cooking!\n"
     ]
    }
   ],
   "source": [
    "# Display results\n",
    "if \"error\" in result:\n",
    "    print(\"❌ Error:\", result[\"error\"])\n",
    "else:\n",
    "    print(\"\\n📝 Cleaned Transcript (preview):\\n\", result[\"cleaned_transcript\"][:500], \"...\")\n",
    "    print(\"\\n🍳 Chef Persona:\\n\", result[\"persona\"])\n",
    "    print(\"\\n👨‍🍳 Recipe Critique:\\n\", result[\"critique\"])\n"
   ]
  }
 ],
 "metadata": {
  "kernelspec": {
   "display_name": "venv",
   "language": "python",
   "name": "python3"
  },
  "language_info": {
   "codemirror_mode": {
    "name": "ipython",
    "version": 3
   },
   "file_extension": ".py",
   "mimetype": "text/x-python",
   "name": "python",
   "nbconvert_exporter": "python",
   "pygments_lexer": "ipython3",
   "version": "3.11.13"
  }
 },
 "nbformat": 4,
 "nbformat_minor": 5
}
