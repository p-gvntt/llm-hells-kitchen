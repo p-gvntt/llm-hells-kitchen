{
 "cells": [
  {
   "cell_type": "code",
   "execution_count": 3,
   "id": "dafbf26f",
   "metadata": {},
   "outputs": [],
   "source": [
    "# Configuration file for the LLM project\n",
    "import pandas as pd\n",
    "import numpy as np\n",
    "import sys\n",
    "sys.path.append('../src')\n",
    "\n",
    "from food_buddy_api import get_food_buddy_recommendations"
   ]
  },
  {
   "cell_type": "code",
   "execution_count": null,
   "id": "4f11fbe4",
   "metadata": {},
   "outputs": [
    {
     "name": "stdout",
     "output_type": "stream",
     "text": [
      "[{'Name': 'Chicken Dijon & Pasta', 'Image_first': None, 'TotalTime_str': '1 hour 5 minutes', 'recipe_instructions_clean': 'Preheat oven to 400 degrees. Place chicken in shallow roasting pan. Mix mustard and dressing. Spoon half of mixture over chicken. Bake, uncovered, 40 minutes. Combine soup, 1/2 c water and remaining mustard mixture. Toss pasta wirth sauce, 2/3 c French Fried Onions, vegetables and parsley. Spoon mixture around chicken. Bake, uncovered, 15 minutes or until chicken is no longer pink in center. Sprinkle with remaining 2/3 c onions. Bake 1 minute or until onions are golden.', 'ingredients_clean': 'chicken, mustard, pasta, onion, tomatoes, zucchini, parsley', 'Calories': 567.7, 'similarity': 0.6422552343553112}, {'Name': 'Easy Lemon Pasta With Chicken', 'Image_first': None, 'TotalTime_str': '40 minutes', 'recipe_instructions_clean': 'Cook the pasta in a large pot of boiling salted water, until al dente. Drain well. Season chicken with salt and pepper. Heat a large grill pan over medium high and add chicken. Grill until golden and completely cooked. Remove to a plate and slice. Add the garlic and red pepper flakes to a saute pan with 3 tablespoons of olive oil and saute until fragrant. Add the cooked pasta and turn heat off. Mix all together. Remove pasta to a large bowl. Add chicken to the warm pasta and season with salt and pepper. Sprinkle in chopped parsley. Add the juice of 2 lemons and mix. Before serving top with Parmesan.', 'ingredients_clean': 'dry penne pasta, chicken cutlets, garlic cloves, olive oil, parmesan cheese, fresh parsley, red pepper flakes', 'Calories': 748.0, 'similarity': 0.6286267431217125}, {'Name': 'Pasta Salad', 'Image_first': None, 'TotalTime_str': '35 minutes', 'recipe_instructions_clean': \"Cut your chicken tenderloins and red pepper into bite-sized pieces. Cook both in a skillet using half the bottle of Italian dressing. After it's cooked, drain about 3/4 of the liquid. The other 1/4 will be added to the pasta. Boil pasta until tender and then drain. Mix pasta, chicken and pepper mixture, and spices into one casserole dish. Add leftover dressing and chill.\", 'ingredients_clean': 'rotini pasta, chicken tenderloins', 'Calories': 134.2, 'similarity': 0.6230735089881281}]\n"
     ]
    }
   ],
   "source": [
    "# Query test\n",
    "print(get_food_buddy_recommendations(\"pasta with chicken\"))"
   ]
  },
  {
   "cell_type": "code",
   "execution_count": null,
   "id": "7c077a00",
   "metadata": {},
   "outputs": [],
   "source": []
  }
 ],
 "metadata": {
  "language_info": {
   "name": "python"
  }
 },
 "nbformat": 4,
 "nbformat_minor": 5
}
