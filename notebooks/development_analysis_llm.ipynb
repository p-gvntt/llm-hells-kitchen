{
 "cells": [
  {
   "cell_type": "code",
   "execution_count": 1,
   "id": "dafbf26f",
   "metadata": {},
   "outputs": [],
   "source": [
    "# Configuration file for the LLM project\n",
    "import pandas as pd\n",
    "import numpy as np\n",
    "from youtube_transcript_api import YouTubeTranscriptApi\n",
    "import re\n",
    "import sys\n",
    "sys.path.append('../src')\n",
    "\n",
    "from food_buddy_api import get_food_buddy_recommendations"
   ]
  },
  {
   "cell_type": "markdown",
   "id": "0407f399",
   "metadata": {},
   "source": [
    "Functions"
   ]
  },
  {
   "cell_type": "code",
   "execution_count": 2,
   "id": "7941368c",
   "metadata": {},
   "outputs": [],
   "source": [
    "def clean_transcript_text(transcript):\n",
    "    \"\"\"Rranscript cleaner adding commas after each snippet\"\"\"\n",
    "    \n",
    "    # Add dot after each snippet, then join\n",
    "    text_parts = []\n",
    "    for snippet in transcript.snippets:\n",
    "        clean_text = snippet.text.strip()\n",
    "        if clean_text:\n",
    "            text_parts.append(clean_text + \",\")\n",
    "    \n",
    "    text = \" \".join(text_parts)\n",
    "    \n",
    "    # Clean up\n",
    "    text = re.sub(r'\\[\\xa0__\\xa0\\]', '', text)  # Remove censored parts\n",
    "    text = re.sub(r'\\[Music\\]', '', text)       # Remove music tags\n",
    "    text = re.sub(r'\\s+', ' ', text).strip()    # Fix spacing\n",
    "    \n",
    "    # Capitalize first letter\n",
    "    if text:\n",
    "        text = text[0].upper() + text[1:]\n",
    "    \n",
    "    return text"
   ]
  },
  {
   "cell_type": "code",
   "execution_count": 3,
   "id": "4f11fbe4",
   "metadata": {},
   "outputs": [
    {
     "name": "stdout",
     "output_type": "stream",
     "text": [
      "[{'Name': 'Chicken Dijon & Pasta', 'Image_first': None, 'TotalTime_str': '1 hour 5 minutes', 'recipe_instructions_clean': 'Preheat oven to 400 degrees. Place chicken in shallow roasting pan. Mix mustard and dressing. Spoon half of mixture over chicken. Bake, uncovered, 40 minutes. Combine soup, 1/2 c water and remaining mustard mixture. Toss pasta wirth sauce, 2/3 c French Fried Onions, vegetables and parsley. Spoon mixture around chicken. Bake, uncovered, 15 minutes or until chicken is no longer pink in center. Sprinkle with remaining 2/3 c onions. Bake 1 minute or until onions are golden.', 'ingredients_clean': 'chicken, mustard, pasta, onion, tomatoes, zucchini, parsley', 'Calories': 567.7, 'similarity': 0.6422552343553112}, {'Name': 'Easy Lemon Pasta With Chicken', 'Image_first': None, 'TotalTime_str': '40 minutes', 'recipe_instructions_clean': 'Cook the pasta in a large pot of boiling salted water, until al dente. Drain well. Season chicken with salt and pepper. Heat a large grill pan over medium high and add chicken. Grill until golden and completely cooked. Remove to a plate and slice. Add the garlic and red pepper flakes to a saute pan with 3 tablespoons of olive oil and saute until fragrant. Add the cooked pasta and turn heat off. Mix all together. Remove pasta to a large bowl. Add chicken to the warm pasta and season with salt and pepper. Sprinkle in chopped parsley. Add the juice of 2 lemons and mix. Before serving top with Parmesan.', 'ingredients_clean': 'dry penne pasta, chicken cutlets, garlic cloves, olive oil, parmesan cheese, fresh parsley, red pepper flakes', 'Calories': 748.0, 'similarity': 0.6286267431217125}, {'Name': 'Pasta Salad', 'Image_first': None, 'TotalTime_str': '35 minutes', 'recipe_instructions_clean': \"Cut your chicken tenderloins and red pepper into bite-sized pieces. Cook both in a skillet using half the bottle of Italian dressing. After it's cooked, drain about 3/4 of the liquid. The other 1/4 will be added to the pasta. Boil pasta until tender and then drain. Mix pasta, chicken and pepper mixture, and spices into one casserole dish. Add leftover dressing and chill.\", 'ingredients_clean': 'rotini pasta, chicken tenderloins', 'Calories': 134.2, 'similarity': 0.6230735089881281}]\n"
     ]
    }
   ],
   "source": [
    "# Query test\n",
    "query = \"pasta with chicken\"\n",
    "recipe = get_food_buddy_recommendations(query)\n",
    "print(recipe)"
   ]
  },
  {
   "cell_type": "code",
   "execution_count": 4,
   "id": "7c077a00",
   "metadata": {},
   "outputs": [
    {
     "name": "stdout",
     "output_type": "stream",
     "text": [
      "FetchedTranscript(snippets=[FetchedTranscriptSnippet(text=\"i'm gonna go [\\xa0__\\xa0] ballistic get a\", start=0.08, duration=5.6), FetchedTranscriptSnippet(text='grip oh dear raj', start=2.32, duration=4.479), FetchedTranscriptSnippet(text='come here you', start=5.68, duration=2.56), FetchedTranscriptSnippet(text=\"it's raw\", start=6.799, duration=5.681), FetchedTranscriptSnippet(text=\"it's [\\xa0__\\xa0] loud it's weird okay\", start=8.24, duration=9.16), FetchedTranscriptSnippet(text='come on man what is that', start=12.48, duration=4.92), FetchedTranscriptSnippet(text='what what what what', start=17.76, duration=4.16), FetchedTranscriptSnippet(text='what is that', start=19.76, duration=5.04), FetchedTranscriptSnippet(text=\"ah it's like barbie's vomit it's like\", start=21.92, duration=5.76), FetchedTranscriptSnippet(text=\"purple snot i swear to god it's [\\xa0__\\xa0]\", start=24.8, duration=4.639), FetchedTranscriptSnippet(text=\"pinker inside that paris hilton's\", start=27.68, duration=4.16), FetchedTranscriptSnippet(text='lipstick', start=29.439, duration=2.401), FetchedTranscriptSnippet(text='just touch that fish there', start=32.48, duration=4.4), FetchedTranscriptSnippet(text=\"just touch how dry it's got more [\\xa0__\\xa0]\", start=34.399, duration=4.32), FetchedTranscriptSnippet(text=\"wrinkles on it than i have and i'm 44\", start=36.88, duration=3.999), FetchedTranscriptSnippet(text='years of age that should be [\\xa0__\\xa0]', start=38.719, duration=3.68), FetchedTranscriptSnippet(text='cooked fresh', start=40.879, duration=3.68), FetchedTranscriptSnippet(text='thanks to [\\xa0__\\xa0] there hurry up dear', start=42.399, duration=6.0), FetchedTranscriptSnippet(text=\"barney yeah but i'm not dick face chef\", start=44.559, duration=5.761), FetchedTranscriptSnippet(text=\"yeah say that again i said i'm not dick\", start=48.399, duration=3.601), FetchedTranscriptSnippet(text=\"face you're pissed are you that last\", start=50.32, duration=3.44), FetchedTranscriptSnippet(text='bucket look at me look at me guys not as', start=52.0, duration=4.32), FetchedTranscriptSnippet(text='pissed as i am you [\\xa0__\\xa0] ah', start=53.76, duration=5.76), FetchedTranscriptSnippet(text=\"donkey no you're cooking like a donkey i\", start=56.32, duration=4.48), FetchedTranscriptSnippet(text=\"didn't realize they shrunk down that\", start=59.52, duration=2.879), FetchedTranscriptSnippet(text='much chef', start=60.8, duration=3.359), FetchedTranscriptSnippet(text=\"it's a bit like your brain not only is\", start=62.399, duration=4.481), FetchedTranscriptSnippet(text='it shrunk but it disappears', start=64.159, duration=5.28), FetchedTranscriptSnippet(text=\"all of you look it's not it's just no\", start=66.88, duration=5.68), FetchedTranscriptSnippet(text=\"it's not about all it's not about that\", start=69.439, duration=4.241), FetchedTranscriptSnippet(text='oh', start=72.56, duration=3.84), FetchedTranscriptSnippet(text='damn it pal a bit exploded all over my', start=73.68, duration=5.28), FetchedTranscriptSnippet(text='face and like i have little tiny like', start=76.4, duration=4.96), FetchedTranscriptSnippet(text=\"bits of halibut in my eyes that's what\", start=78.96, duration=4.72), FetchedTranscriptSnippet(text=\"he took off and there's the filet look\", start=81.36, duration=4.64), FetchedTranscriptSnippet(text='at the filling he molested that poor', start=83.68, duration=4.479), FetchedTranscriptSnippet(text='thing people have gone to jail for worse', start=86.0, duration=3.119), FetchedTranscriptSnippet(text='looks like he went with it with a', start=88.159, duration=3.761), FetchedTranscriptSnippet(text='jackhammer we [\\xa0__\\xa0] wasted the most', start=89.119, duration=6.241), FetchedTranscriptSnippet(text='expensive heart look at it ring the bell', start=91.92, duration=5.76), FetchedTranscriptSnippet(text='come here you muppets', start=95.36, duration=3.759), FetchedTranscriptSnippet(text='what a muppet', start=97.68, duration=3.439), FetchedTranscriptSnippet(text='gail', start=99.119, duration=4.481), FetchedTranscriptSnippet(text=\"look i've got raw pasta look at it it's\", start=101.119, duration=4.801), FetchedTranscriptSnippet(text='standing up straight look madam', start=103.6, duration=4.24), FetchedTranscriptSnippet(text=\"it's like a [\\xa0__\\xa0] thumb left over from\", start=105.92, duration=4.879), FetchedTranscriptSnippet(text='a [\\xa0__\\xa0] night out in vegas come on', start=107.84, duration=5.36), FetchedTranscriptSnippet(text='all of you just taste that will you just', start=110.799, duration=3.921), FetchedTranscriptSnippet(text='touch that', start=113.2, duration=3.68), FetchedTranscriptSnippet(text=\"there's [\\xa0__\\xa0] fish hotter than that in\", start=114.72, duration=5.359), FetchedTranscriptSnippet(text='a [\\xa0__\\xa0] sushi bar', start=116.88, duration=3.199), FetchedTranscriptSnippet(text='[\\xa0__\\xa0]', start=120.159, duration=3.841), FetchedTranscriptSnippet(text=\"this is not possible you're done\", start=121.52, duration=3.44), FetchedTranscriptSnippet(text=\"you're done\", start=124.0, duration=2.479), FetchedTranscriptSnippet(text=\"that's why i get served look come here\", start=124.96, duration=2.56), FetchedTranscriptSnippet(text='all of you', start=126.479, duration=3.041), FetchedTranscriptSnippet(text='he brings that pissing over', start=127.52, duration=4.24), FetchedTranscriptSnippet(text='and the big surprise is the [\\xa0__\\xa0] bus', start=129.52, duration=4.96), FetchedTranscriptSnippet(text='is [\\xa0__\\xa0] raw', start=131.76, duration=4.479), FetchedTranscriptSnippet(text='one chicken one pork chop five minutes', start=134.48, duration=3.36), FetchedTranscriptSnippet(text=\"chef he's trying to propose to his\", start=136.239, duration=4.401), FetchedTranscriptSnippet(text='future fiancee move louie yeah make them', start=137.84, duration=4.32), FetchedTranscriptSnippet(text='break up before they even [\\xa0__\\xa0] get', start=140.64, duration=3.76), FetchedTranscriptSnippet(text='married 30 seconds cutting pork now', start=142.16, duration=5.12), FetchedTranscriptSnippet(text='tonight it was painful just watching you', start=144.4, duration=4.479), FetchedTranscriptSnippet(text='disintegrate', start=147.28, duration=3.52), FetchedTranscriptSnippet(text='it was like having a root canal and', start=148.879, duration=3.36), FetchedTranscriptSnippet(text='passing a kidney stone at the same', start=150.8, duration=3.25), FetchedTranscriptSnippet(text='[\\xa0__\\xa0] time', start=152.239, duration=3.441), FetchedTranscriptSnippet(text='[Music]', start=154.05, duration=3.63), FetchedTranscriptSnippet(text='outcomes look at that', start=155.68, duration=4.72), FetchedTranscriptSnippet(text='overcooked on the bottom crispy as [\\xa0__\\xa0]', start=157.68, duration=5.6), FetchedTranscriptSnippet(text=\"and it looks like gandhi's flip-flop\", start=160.4, duration=5.6), FetchedTranscriptSnippet(text=\"what a shame look this [\\xa0__\\xa0] pigeon's\", start=163.28, duration=5.36), FetchedTranscriptSnippet(text='that raw it can still fly touch it stone', start=166.0, duration=4.72), FetchedTranscriptSnippet(text='[\\xa0__\\xa0] cold and raw', start=168.64, duration=4.0), FetchedTranscriptSnippet(text='come on', start=170.72, duration=4.96), FetchedTranscriptSnippet(text=\"sabrina yeah chef look raw yes like it's\", start=172.64, duration=4.319), FetchedTranscriptSnippet(text='still running around in the [\\xa0__\\xa0]', start=175.68, duration=5.04), FetchedTranscriptSnippet(text='field is that purpose no chef so why', start=176.959, duration=6.92), FetchedTranscriptSnippet(text='this is', start=180.72, duration=3.159), FetchedTranscriptSnippet(text='[Music]', start=185.64, duration=13.999), FetchedTranscriptSnippet(text=\"i'm [\\xa0__\\xa0] myself we\", start=200.08, duration=3.76)], video_id='mdqb3fVqZgM', language='English (auto-generated)', language_code='en', is_generated=True)\n"
     ]
    }
   ],
   "source": [
    "# Transcript test from YouTube video\n",
    "video_id = \"mdqb3fVqZgM\"\n",
    "api = YouTubeTranscriptApi()\n",
    "transcript = api.fetch(video_id)\n",
    "\n",
    "print(transcript)"
   ]
  },
  {
   "cell_type": "code",
   "execution_count": 5,
   "id": "687f1b1d",
   "metadata": {},
   "outputs": [
    {
     "name": "stdout",
     "output_type": "stream",
     "text": [
      "I'm gonna go ballistic get a, grip oh dear raj, come here you, it's raw, it's loud it's weird okay, come on man what is that, what what what what, what is that, ah it's like barbie's vomit it's like, purple snot i swear to god it's , pinker inside that paris hilton's, lipstick, just touch that fish there, just touch how dry it's got more , wrinkles on it than i have and i'm 44, years of age that should be , cooked fresh, thanks to there hurry up dear, barney yeah but i'm not dick face chef, yeah say that again i said i'm not dick, face you're pissed are you that last, bucket look at me look at me guys not as, pissed as i am you ah, donkey no you're cooking like a donkey i, didn't realize they shrunk down that, much chef, it's a bit like your brain not only is, it shrunk but it disappears, all of you look it's not it's just no, it's not about all it's not about that, oh, damn it pal a bit exploded all over my, face and like i have little tiny like, bits of halibut in my eyes that's what, he took off and there's the filet look, at the filling he molested that poor, thing people have gone to jail for worse, looks like he went with it with a, jackhammer we wasted the most, expensive heart look at it ring the bell, come here you muppets, what a muppet, gail, look i've got raw pasta look at it it's, standing up straight look madam, it's like a thumb left over from, a night out in vegas come on, all of you just taste that will you just, touch that, there's fish hotter than that in, a sushi bar, , this is not possible you're done, you're done, that's why i get served look come here, all of you, he brings that pissing over, and the big surprise is the bus, is raw, one chicken one pork chop five minutes, chef he's trying to propose to his, future fiancee move louie yeah make them, break up before they even get, married 30 seconds cutting pork now, tonight it was painful just watching you, disintegrate, it was like having a root canal and, passing a kidney stone at the same, time, , outcomes look at that, overcooked on the bottom crispy as , and it looks like gandhi's flip-flop, what a shame look this pigeon's, that raw it can still fly touch it stone, cold and raw, come on, sabrina yeah chef look raw yes like it's, still running around in the , field is that purpose no chef so why, this is, , i'm myself we,\n"
     ]
    }
   ],
   "source": [
    "# Clean transcript test\n",
    "transcript_clean = clean_transcript_text(transcript)\n",
    "print(transcript_clean)"
   ]
  },
  {
   "cell_type": "markdown",
   "id": "ec543a5b",
   "metadata": {},
   "source": [
    "`"
   ]
  }
 ],
 "metadata": {
  "kernelspec": {
   "display_name": "venv",
   "language": "python",
   "name": "python3"
  },
  "language_info": {
   "codemirror_mode": {
    "name": "ipython",
    "version": 3
   },
   "file_extension": ".py",
   "mimetype": "text/x-python",
   "name": "python",
   "nbconvert_exporter": "python",
   "pygments_lexer": "ipython3",
   "version": "3.13.5"
  }
 },
 "nbformat": 4,
 "nbformat_minor": 5
}
